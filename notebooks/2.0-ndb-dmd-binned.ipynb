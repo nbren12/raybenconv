{
 "cells": [
  {
   "cell_type": "code",
   "execution_count": null,
   "metadata": {},
   "outputs": [],
   "source": [
    "import xarray as xr\n",
    "import holoviews as hv\n",
    "import numpy as np\n",
    "hv.extension('bokeh')"
   ]
  },
  {
   "cell_type": "markdown",
   "metadata": {},
   "source": [
    "Load the iso-thermally binned data"
   ]
  },
  {
   "cell_type": "code",
   "execution_count": null,
   "metadata": {},
   "outputs": [],
   "source": [
    "W = xr.open_dataset(\"../data/processed/binned.nc\")['uY']\n",
    "W\n",
    "\n",
    "x = W.stack(features=['z','temp']).transpose('t', 'features')"
   ]
  },
  {
   "cell_type": "markdown",
   "metadata": {},
   "source": [
    "# EOF Analysis"
   ]
  },
  {
   "cell_type": "code",
   "execution_count": null,
   "metadata": {},
   "outputs": [],
   "source": [
    "from sklearn.decomposition import PCA\n",
    "import pandas as pd\n",
    "\n",
    "pca = PCA(n_components=10).fit(x)"
   ]
  },
  {
   "cell_type": "markdown",
   "metadata": {},
   "source": [
    "This is the explained variance ratios for each mode."
   ]
  },
  {
   "cell_type": "code",
   "execution_count": null,
   "metadata": {},
   "outputs": [],
   "source": [
    "hv.Bars(pca.explained_variance_ratio_)"
   ]
  },
  {
   "cell_type": "code",
   "execution_count": null,
   "metadata": {},
   "outputs": [],
   "source": [
    "coords =  (pd.Index(range(10), name='m'), x.indexes['features'])\n",
    "eofs = xr.DataArray(pca.components_, coords).unstack('dim_1')"
   ]
  },
  {
   "cell_type": "markdown",
   "metadata": {},
   "source": [
    "This is what the eofs look like"
   ]
  },
  {
   "cell_type": "code",
   "execution_count": null,
   "metadata": {},
   "outputs": [],
   "source": [
    "%%opts Image[colorbar=True](cmap='RdBu_r')\n",
    "hv_ds = hv.Dataset(eofs.to_dataset(name='eof'), kdims=['m','z','temp'])\n",
    "hv_ds.to(hv.Image, [\"temp\", \"z\"])"
   ]
  },
  {
   "cell_type": "markdown",
   "metadata": {},
   "source": [
    "What do the principal component time series look like."
   ]
  },
  {
   "cell_type": "code",
   "execution_count": null,
   "metadata": {},
   "outputs": [],
   "source": [
    "y = pca.transform(x)"
   ]
  },
  {
   "cell_type": "code",
   "execution_count": null,
   "metadata": {},
   "outputs": [],
   "source": [
    "%%opts Curve[width=600]\n",
    "hv.HoloMap({k: hv.Curve(y_k[:1000]) for k, y_k in enumerate(y.T)})"
   ]
  },
  {
   "cell_type": "markdown",
   "metadata": {},
   "source": [
    "You can see that there is not good time-scale separation, but that the first mode basically looks just like the Nusselt nnumber time series."
   ]
  },
  {
   "cell_type": "markdown",
   "metadata": {},
   "source": [
    "# DMD"
   ]
  },
  {
   "cell_type": "code",
   "execution_count": null,
   "metadata": {},
   "outputs": [],
   "source": [
    "from sklearn.linear_model import LinearRegression, Ridge\n",
    "from sklearn.pipeline import make_pipeline\n",
    "\n",
    "x0, x1 = x[:-1,:].data, x[1:,:].data\n",
    "\n",
    "pcr = make_pipeline(PCA(n_components=10), LinearRegression())\n",
    "pcr.fit(x0, x1)"
   ]
  },
  {
   "cell_type": "markdown",
   "metadata": {},
   "source": [
    "Now what about the linear model?"
   ]
  },
  {
   "cell_type": "code",
   "execution_count": null,
   "metadata": {},
   "outputs": [],
   "source": [
    "I = np.eye(x0.shape[1])\n",
    "\n",
    "A = pcr.predict(I) - pcr.predict(I*0)"
   ]
  },
  {
   "cell_type": "markdown",
   "metadata": {},
   "source": [
    "Let's look at the transformation matrix of this linear operation"
   ]
  },
  {
   "cell_type": "code",
   "execution_count": null,
   "metadata": {},
   "outputs": [],
   "source": [
    "%%opts Image\n",
    "hv.Image(np.abs(A)>.01)"
   ]
  },
  {
   "cell_type": "markdown",
   "metadata": {},
   "source": [
    "What is the R2 of this fit?"
   ]
  },
  {
   "cell_type": "code",
   "execution_count": null,
   "metadata": {},
   "outputs": [],
   "source": [
    "pcr.score(x0, x1)"
   ]
  },
  {
   "cell_type": "markdown",
   "metadata": {},
   "source": [
    "This is probably worse than the persistence forecast"
   ]
  },
  {
   "cell_type": "code",
   "execution_count": null,
   "metadata": {},
   "outputs": [],
   "source": [
    "def r2_score_peristence(ytrue, ypred, ynull):\n",
    "    def ss(x):\n",
    "        return np.sum(x**2)\n",
    "    return 1 - ss(ytrue-ypred)/ss(ynull-ytrue)\n",
    "\n",
    "\n",
    "\n",
    "r2_score_peristence(x1, pcr.predict(x0), x0)"
   ]
  },
  {
   "cell_type": "markdown",
   "metadata": {},
   "source": [
    "Actually it does a lot better than persistence forecast.\n",
    "\n",
    "Now, let's look at the eignvalues of $A$. "
   ]
  },
  {
   "cell_type": "code",
   "execution_count": null,
   "metadata": {},
   "outputs": [],
   "source": [
    "%%opts Scatter(size=4)\n",
    "lam = np.linalg.eigvals(A)\n",
    "hv.Scatter((lam.real, lam.imag), kdims=['Re'], vdims=['Im']) * hv.Ellipse(0,0, 2.0)"
   ]
  },
  {
   "cell_type": "markdown",
   "metadata": {},
   "source": [
    "They all lie within the unit circle in the complex plane, which is very good. The linear problem can be solved by taking the log of these eigenvalues."
   ]
  },
  {
   "cell_type": "code",
   "execution_count": null,
   "metadata": {},
   "outputs": [],
   "source": [
    "lam_pos_mask = np.abs(lam) > 1e-10\n",
    "sum(lam_pos_mask)"
   ]
  },
  {
   "cell_type": "markdown",
   "metadata": {},
   "source": [
    "There are only 10 eigenvalues above 0. This is exactly the number of PCA modes we selected."
   ]
  },
  {
   "cell_type": "markdown",
   "metadata": {},
   "source": [
    "Let's plot the frequencies:"
   ]
  },
  {
   "cell_type": "code",
   "execution_count": null,
   "metadata": {},
   "outputs": [],
   "source": [
    "lam = np.ma.array(lam, mask=~lam_pos_mask)"
   ]
  },
  {
   "cell_type": "code",
   "execution_count": null,
   "metadata": {},
   "outputs": [],
   "source": [
    "%%opts Scatter(size=4) VLine(line_color=\"k\")\n",
    "\n",
    "loglam = np.log(lam[lam_pos_mask])\n",
    "hv.VLine(0.0) * hv.Scatter((loglam.real, loglam.imag), kdims=['Re'], vdims=['Im']) "
   ]
  },
  {
   "cell_type": "markdown",
   "metadata": {},
   "source": [
    "There is one large growing mode."
   ]
  },
  {
   "cell_type": "markdown",
   "metadata": {},
   "source": [
    "# Ridge regression"
   ]
  },
  {
   "cell_type": "code",
   "execution_count": null,
   "metadata": {},
   "outputs": [],
   "source": [
    "from sklearn.preprocessing import StandardScaler\n",
    "\n",
    "ridge = make_pipeline(StandardScaler(), Ridge(10.0))\n",
    "ridge.fit(x0, x1)"
   ]
  },
  {
   "cell_type": "code",
   "execution_count": null,
   "metadata": {},
   "outputs": [],
   "source": [
    "A_ridge = ridge.predict(I) - ridge.predict(0*I)"
   ]
  },
  {
   "cell_type": "code",
   "execution_count": null,
   "metadata": {},
   "outputs": [],
   "source": [
    "ridge.score(x0, x1)"
   ]
  },
  {
   "cell_type": "code",
   "execution_count": null,
   "metadata": {},
   "outputs": [],
   "source": [
    "%%opts Scatter(size=1)\n",
    "lam = np.linalg.eigvals(A_ridge)\n",
    "hv.Scatter((lam.real, lam.imag), kdims=['Re'], vdims=['Im']) * hv.Ellipse(0,0, 2.0)"
   ]
  },
  {
   "cell_type": "markdown",
   "metadata": {},
   "source": [
    "There is not good time-scale separation here because the imaginary components of the eigenvalues are uniformly distributed accross the imaginary axis. It appears the SVD approach gives a more robust estimation of the eigenvalues than the ridge regression does."
   ]
  },
  {
   "cell_type": "code",
   "execution_count": null,
   "metadata": {},
   "outputs": [],
   "source": [
    "# freq, bins = np.histogram(lam.imag, 10)\n",
    "hv.Scatter(lam.imag)"
   ]
  }
 ],
 "metadata": {
  "kernelspec": {
   "display_name": "Python 3",
   "language": "python",
   "name": "python3"
  },
  "language_info": {
   "codemirror_mode": {
    "name": "ipython",
    "version": 3
   },
   "file_extension": ".py",
   "mimetype": "text/x-python",
   "name": "python",
   "nbconvert_exporter": "python",
   "pygments_lexer": "ipython3",
   "version": "3.6.3"
  }
 },
 "nbformat": 4,
 "nbformat_minor": 2
}
