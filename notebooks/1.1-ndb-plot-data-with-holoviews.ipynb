{
 "cells": [
  {
   "cell_type": "code",
   "execution_count": null,
   "metadata": {},
   "outputs": [],
   "source": [
    "import xarray as xr\n",
    "import holoviews as hv\n",
    "hv.extension('bokeh')"
   ]
  },
  {
   "cell_type": "code",
   "execution_count": null,
   "metadata": {},
   "outputs": [],
   "source": [
    "data = xr.open_dataset(\"../data/processed/regridded.nc\")"
   ]
  },
  {
   "cell_type": "code",
   "execution_count": null,
   "metadata": {},
   "outputs": [],
   "source": [
    "data"
   ]
  },
  {
   "cell_type": "code",
   "execution_count": null,
   "metadata": {},
   "outputs": [],
   "source": [
    "T = data['T']\n",
    "\n",
    "def frame(t):\n",
    "    return hv.Image(T.sel(t=t))"
   ]
  },
  {
   "cell_type": "code",
   "execution_count": null,
   "metadata": {},
   "outputs": [],
   "source": [
    "%%opts Image[height=200, width=800](cmap='viridis')\n",
    "hv.DynamicMap(frame, kdims=[hv.Dimension('t', values=T.t.values)])"
   ]
  },
  {
   "cell_type": "markdown",
   "metadata": {},
   "source": [
    "Let's look at some Hovmoller diagrms for different horizontal slices of the data."
   ]
  },
  {
   "cell_type": "code",
   "execution_count": null,
   "metadata": {},
   "outputs": [],
   "source": [
    "def zslice(z):\n",
    "    data= T.isel(t=slice(0,None,20)).isel(x=slice(0,None,5)).sel(z=z, method='nearest')\n",
    "    return hv.Image(data.T)\n",
    "\n",
    "\n",
    "dm = hv.DynamicMap(zslice, kdims=[hv.Dimension('z', range=(0,1.0))])"
   ]
  },
  {
   "cell_type": "code",
   "execution_count": null,
   "metadata": {},
   "outputs": [],
   "source": [
    "%%opts Image[height=200, width=700,colorbar=True](cmap='viridis')\n",
    "hv.NdLayout(dm[[.1, .5, .9]]).cols(1)"
   ]
  },
  {
   "cell_type": "markdown",
   "metadata": {},
   "source": [
    "We see that the base of the convections roles slowly move back and forth. But that the overall number of rolls stays constant in time. The shifting in the convection rolls has shorter term fluctuations as well as long term drifting."
   ]
  },
  {
   "cell_type": "markdown",
   "metadata": {},
   "source": [
    "Let's plot the isothermally binned data"
   ]
  },
  {
   "cell_type": "code",
   "execution_count": null,
   "metadata": {},
   "outputs": [],
   "source": [
    "iso_binned = xr.open_dataset(\"../data/processed/binned.nc\")\n",
    "W = iso_binned.uY"
   ]
  },
  {
   "cell_type": "code",
   "execution_count": null,
   "metadata": {},
   "outputs": [],
   "source": [
    "%%opts Image[height=400, width=400](cmap='viridis')\n",
    "def frame(i):\n",
    "    return hv.Image(W.sel(t=i))\n",
    "\n",
    "hv.DynamicMap(frame, kdims=[hv.Dimension('t', values=W.t.values)])"
   ]
  }
 ],
 "metadata": {
  "kernelspec": {
   "display_name": "Python 3",
   "language": "python",
   "name": "python3"
  },
  "language_info": {
   "codemirror_mode": {
    "name": "ipython",
    "version": 3
   },
   "file_extension": ".py",
   "mimetype": "text/x-python",
   "name": "python",
   "nbconvert_exporter": "python",
   "pygments_lexer": "ipython3",
   "version": "3.6.3"
  }
 },
 "nbformat": 4,
 "nbformat_minor": 2
}
