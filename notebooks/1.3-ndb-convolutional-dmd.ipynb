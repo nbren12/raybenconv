{
 "cells": [
  {
   "cell_type": "code",
   "execution_count": null,
   "metadata": {},
   "outputs": [],
   "source": [
    "import xarray as xr\n",
    "import matplotlib.pyplot as plt\n",
    "import numpy as np\n",
    "# from xnoah.data_matrix import stack_cat, unstack_cat\n",
    "# import holoviews as hv\n",
    "# hv.extension('bokeh')\n",
    "data = xr.open_dataset(\"../data/processed/regridded.nc\", chunks={'t':100}).isel(t=slice(0,300))"
   ]
  },
  {
   "cell_type": "code",
   "execution_count": null,
   "metadata": {},
   "outputs": [],
   "source": [
    "T = data['T'].transpose('t', 'x', 'z').data"
   ]
  },
  {
   "cell_type": "code",
   "execution_count": null,
   "metadata": {},
   "outputs": [],
   "source": [
    "import tensorflow as tf"
   ]
  },
  {
   "cell_type": "code",
   "execution_count": null,
   "metadata": {},
   "outputs": [],
   "source": [
    "nt, nx, nz= T.shape"
   ]
  },
  {
   "cell_type": "code",
   "execution_count": null,
   "metadata": {},
   "outputs": [],
   "source": [
    "from tensorflow.contrib.opt import ScipyOptimizerInterface\n",
    "\n",
    "x = tf.placeholder(\"float\")\n",
    "y = tf.placeholder(\"float\")\n",
    "w = tf.Variable(np.zeros((30, nz, nz)), name='weight', dtype=\"float\")\n",
    "b = tf.Variable(np.zeros((nz)), name='bias', dtype=\"float\")\n",
    "\n",
    "pred = tf.nn.conv1d(x, w, stride=1, padding='SAME', data_format=\"NHWC\") + b\n",
    "\n",
    "\n",
    "# loss function\n",
    "mse = tf.reduce_sum(tf.pow(pred-y, 2))\n",
    "\n",
    "# mse\n",
    "optim = ScipyOptimizerInterface(mse, [w, b], options={'maxiter': 10})\n",
    "\n",
    "init = tf.global_variables_initializer()"
   ]
  },
  {
   "cell_type": "code",
   "execution_count": null,
   "metadata": {},
   "outputs": [],
   "source": [
    "\n",
    "with tf.Session() as sess:\n",
    "    sess.run(init)\n",
    "    optim.minimize(sess, feed_dict={x: T[:-3], y:T[3:]})\n",
    "    wo, bo= sess.run([w,b])"
   ]
  },
  {
   "cell_type": "code",
   "execution_count": null,
   "metadata": {},
   "outputs": [],
   "source": [
    "import holoviews as hv\n",
    "hv.extension(\"bokeh\")"
   ]
  },
  {
   "cell_type": "code",
   "execution_count": null,
   "metadata": {},
   "outputs": [],
   "source": [
    "wo.shape"
   ]
  },
  {
   "cell_type": "code",
   "execution_count": null,
   "metadata": {},
   "outputs": [],
   "source": [
    "d =xr.DataArray(wo, dims=['x', 'z', 'zp'])"
   ]
  },
  {
   "cell_type": "code",
   "execution_count": null,
   "metadata": {},
   "outputs": [],
   "source": [
    "ds = hv.Dataset((np.arange(64), np.arange(64), np.arange(30), wo), kdims=['zp', 'z', 'x'], vdims=['var'])"
   ]
  },
  {
   "cell_type": "code",
   "execution_count": null,
   "metadata": {},
   "outputs": [],
   "source": [
    "ds"
   ]
  },
  {
   "cell_type": "code",
   "execution_count": null,
   "metadata": {},
   "outputs": [],
   "source": [
    "ds.to(hv.Image, [\"z\", \"zp\"])"
   ]
  },
  {
   "cell_type": "code",
   "execution_count": null,
   "metadata": {},
   "outputs": [],
   "source": [
    "ds.to(hv.Image, [\"x\", \"zp\"])"
   ]
  }
 ],
 "metadata": {
  "kernelspec": {
   "display_name": "Python 3",
   "language": "python",
   "name": "python3"
  },
  "language_info": {
   "codemirror_mode": {
    "name": "ipython",
    "version": 3
   },
   "file_extension": ".py",
   "mimetype": "text/x-python",
   "name": "python",
   "nbconvert_exporter": "python",
   "pygments_lexer": "ipython3",
   "version": "3.6.3"
  }
 },
 "nbformat": 4,
 "nbformat_minor": 2
}
