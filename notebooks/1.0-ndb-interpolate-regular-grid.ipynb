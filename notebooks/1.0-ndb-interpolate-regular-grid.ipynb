{
 "cells": [
  {
   "cell_type": "code",
   "execution_count": 1,
   "metadata": {},
   "outputs": [],
   "source": [
    "%matplotlib inline\n",
    "import matplotlib.pyplot as plt\n",
    "\n",
    "import numpy as np\n",
    "from scipy.interpolate import interp2d\n",
    "import xarray as xr\n",
    "import toolz"
   ]
  },
  {
   "cell_type": "code",
   "execution_count": 2,
   "metadata": {},
   "outputs": [
    {
     "name": "stdout",
     "output_type": "stream",
     "text": [
      "25297f485ce5115aadf225837e6de7a782254a21\r\n",
      "On branch master\r\n",
      "Changes to be committed:\r\n",
      "  (use \"git reset HEAD <file>...\" to unstage)\r\n",
      "\r\n",
      "\t\u001b[32mmodified:   ../Snakefile\u001b[m\r\n",
      "\t\u001b[32mnew file:   ../snakemake/regrid.py\u001b[m\r\n",
      "\r\n",
      "Untracked files:\r\n",
      "  (use \"git add <file>...\" to include in what will be committed)\r\n",
      "\r\n",
      "\t\u001b[31m1.0-ndb-interpolate-regular-grid.ipynb\u001b[m\r\n",
      "\r\n"
     ]
    }
   ],
   "source": [
    "!git rev-parse HEAD\n",
    "!git status"
   ]
  },
  {
   "cell_type": "code",
   "execution_count": 3,
   "metadata": {},
   "outputs": [],
   "source": [
    "rb = xr.open_dataset(\"../data/raw/rayben/10ksamples.nc\", chunks={'t': 1})"
   ]
  },
  {
   "cell_type": "code",
   "execution_count": 4,
   "metadata": {},
   "outputs": [],
   "source": [
    "x = np.asarray(rb.x)"
   ]
  },
  {
   "cell_type": "markdown",
   "metadata": {},
   "source": [
    "remove the indices where the distance is 0"
   ]
  },
  {
   "cell_type": "code",
   "execution_count": 5,
   "metadata": {},
   "outputs": [],
   "source": [
    "xind, = np.nonzero(np.diff(x) > 1e-10)\n",
    "\n",
    "rb = rb.isel(x=xind)\n",
    "\n",
    "x = np.asarray(rb.x)\n",
    "z = np.asarray(rb.z)\n",
    "\n",
    "\n",
    "data = np.asarray(rb.uY.isel(t=0))"
   ]
  },
  {
   "cell_type": "markdown",
   "metadata": {},
   "source": [
    "What is the difference in the grid spacing"
   ]
  },
  {
   "cell_type": "code",
   "execution_count": 6,
   "metadata": {},
   "outputs": [
    {
     "data": {
      "text/plain": [
       "(0.0036952496, 0.049865007)"
      ]
     },
     "execution_count": 6,
     "metadata": {},
     "output_type": "execute_result"
    }
   ],
   "source": [
    "np.diff(x).min(), np.diff(x).max()"
   ]
  },
  {
   "cell_type": "code",
   "execution_count": 7,
   "metadata": {},
   "outputs": [
    {
     "data": {
      "text/plain": [
       "(0.0036955329, 0.049864739)"
      ]
     },
     "execution_count": 7,
     "metadata": {},
     "output_type": "execute_result"
    }
   ],
   "source": [
    "np.diff(z).min(), np.diff(z).max()"
   ]
  },
  {
   "cell_type": "markdown",
   "metadata": {},
   "source": [
    "This is a pretty radical difference. Let's just use 64 grid points total in the vertical, and 512 in the horizontal in the regridded data."
   ]
  },
  {
   "cell_type": "code",
   "execution_count": 8,
   "metadata": {},
   "outputs": [],
   "source": [
    "nx, nz = 512, 64\n",
    "\n",
    "xg = np.linspace(0, x.max(), nx, endpoint=False)\n",
    "zg = np.linspace(0, z.max(), nz, endpoint=False)"
   ]
  },
  {
   "cell_type": "code",
   "execution_count": 9,
   "metadata": {},
   "outputs": [
    {
     "name": "stdout",
     "output_type": "stream",
     "text": [
      "1.03 ms ± 116 µs per loop (mean ± std. dev. of 7 runs, 1000 loops each)\n"
     ]
    }
   ],
   "source": [
    "%timeit interp2d(x,z,data)(xg, zg)"
   ]
  },
  {
   "cell_type": "markdown",
   "metadata": {},
   "source": [
    "this interpolation is pretty fast, so there is no need to improve the code further "
   ]
  },
  {
   "cell_type": "code",
   "execution_count": 10,
   "metadata": {
    "scrolled": true
   },
   "outputs": [
    {
     "data": {
      "text/plain": [
       "<matplotlib.colorbar.Colorbar at 0x11fb28748>"
      ]
     },
     "execution_count": 10,
     "metadata": {},
     "output_type": "execute_result"
    },
    {
     "data": {
      "image/png": "[encoded data removed]",
      "text/plain": [
       "<matplotlib.figure.Figure at 0x11f9117f0>"
      ]
     },
     "metadata": {},
     "output_type": "display_data"
    }
   ],
   "source": [
    "interpolated_data = interp2d(x,z,data)(xg, zg)\n",
    "\n",
    "plt.figure(figsize=(8, 8/15))\n",
    "ax = plt.pcolormesh(xg, zg, interpolated_data)\n",
    "plt.colorbar()"
   ]
  },
  {
   "cell_type": "markdown",
   "metadata": {},
   "source": [
    "## Code for automatic this task"
   ]
  },
  {
   "cell_type": "code",
   "execution_count": 11,
   "metadata": {},
   "outputs": [],
   "source": [
    "def get_regular_grid(nx, nz):\n",
    "    xg = np.linspace(0, 15.0, nx, endpoint=False)\n",
    "    zg = np.linspace(0, 1.0, nz, endpoint=False)\n",
    "    \n",
    "    return xg, zg\n",
    "\n",
    "@toolz.curry\n",
    "def interpolate_data(x, z, xg, zg, data):\n",
    "    \n",
    "    return interp2d(x, z, data[0,:,:])(xg, zg)[np.newaxis,:,:]\n",
    "\n",
    "def remove_duplicate_x(ds):\n",
    "    x = np.asarray(ds.x)\n",
    "    xind, = np.nonzero(np.diff(x) > 1e-10)\n",
    "    return ds.isel(x=xind)\n",
    "\n",
    "\n",
    "\n",
    "def regrid_dataarray(xarr):\n",
    "\n",
    "    ds_deduped = remove_duplicate_x(xarr)\n",
    "    darr = ds_deduped.data\n",
    "\n",
    "    x = np.asarray(ds_deduped.x)\n",
    "    z = np.asarray(ds_deduped.z)\n",
    "\n",
    "    xg, zg = get_regular_grid(512, 64)\n",
    "\n",
    "\n",
    "    interpolater = interpolate_data(x, z, xg, zg)\n",
    "    # map_blocks\n",
    "    darr_interp = darr.map_blocks(interpolater, dtype=darr.dtype, chunks=(1, len(zg), len(xg)))\n",
    "    out_xarr = xr.DataArray(darr_interp, coords={'x': xg, 'z': zg, 't': ds_deduped['t']}, dims=['t','z','x'])\n",
    "    \n",
    "    return out_xarr\n",
    "\n",
    "def regrid_dataset(ds):\n",
    "    return ds.apply(regrid_dataarray)\n",
    "\n",
    "rb_rg = regrid_dataset(rb)"
   ]
  },
  {
   "cell_type": "code",
   "execution_count": 12,
   "metadata": {},
   "outputs": [
    {
     "data": {
      "text/plain": [
       "<xarray.Dataset>\n",
       "Dimensions:  (t: 10000, x: 512, z: 64)\n",
       "Coordinates:\n",
       "  * x        (x) float64 0.0 0.0293 0.05859 0.08789 0.1172 0.1465 0.1758 ...\n",
       "  * z        (z) float64 0.0 0.01562 0.03125 0.04688 0.0625 0.07812 0.09375 ...\n",
       "  * t        (t) int32 10001 10002 10003 10004 10005 10006 10007 10008 10009 ...\n",
       "Data variables:\n",
       "    uY       (t, z, x) float32 0.0 0.0 0.0 0.0 0.0 0.0 0.0 0.0 0.0 0.0 0.0 ...\n",
       "    uX       (t, z, x) float32 0.0 0.0 0.0 0.0 0.0 0.0 0.0 0.0 0.0 0.0 0.0 ...\n",
       "    T        (t, z, x) float32 1.0 1.0 1.0 1.0 1.0 1.0 1.0 1.0 1.0 1.0 1.0 ..."
      ]
     },
     "execution_count": 12,
     "metadata": {},
     "output_type": "execute_result"
    }
   ],
   "source": [
    "rb_rg"
   ]
  },
  {
   "cell_type": "markdown",
   "metadata": {},
   "source": [
    "This code is ready to refactor!"
   ]
  }
 ],
 "metadata": {
  "kernelspec": {
   "display_name": "Python 3",
   "language": "python",
   "name": "python3"
  },
  "language_info": {
   "codemirror_mode": {
    "name": "ipython",
    "version": 3
   },
   "file_extension": ".py",
   "mimetype": "text/x-python",
   "name": "python",
   "nbconvert_exporter": "python",
   "pygments_lexer": "ipython3",
   "version": "3.6.3"
  }
 },
 "nbformat": 4,
 "nbformat_minor": 2
}
